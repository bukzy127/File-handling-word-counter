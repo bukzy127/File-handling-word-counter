{
 "cells": [
  {
   "cell_type": "code",
   "execution_count": 1,
   "metadata": {},
   "outputs": [],
   "source": [
    "#File handling – word counter\n",
    "\n",
    "import string\n",
    "from collections import Counter\n",
    "\n",
    "# Function to tokenize text into words\n",
    "def tokenize(text):\n",
    "    words = text.lower().split()\n",
    "    # Remove punctuation from words\n",
    "    words = [word.strip(string.punctuation) for word in words]\n",
    "    return words\n",
    "\n",
    "# Function to calculate word frequencies\n",
    "def word_frequencies(text):\n",
    "    words = tokenize(text)\n",
    "    return Counter(words)\n",
    "\n",
    "# Function to compare two texts for potential plagiarism\n",
    "def compare_texts(student_essay, reference_text):\n",
    "    student_freq = word_frequencies(student_essay)\n",
    "    reference_freq = word_frequencies(reference_text)\n",
    "\n",
    "    # Calculate the Jaccard similarity between the two sets of words\n",
    "    intersection = sum((student_freq & reference_freq).values())\n",
    "    union = sum((student_freq | reference_freq).values())\n",
    "    similarity = intersection / union"
   ]
  },
  {
   "cell_type": "code",
   "execution_count": null,
   "metadata": {},
   "outputs": [],
   "source": []
  }
 ],
 "metadata": {
  "kernelspec": {
   "display_name": "Python 3",
   "language": "python",
   "name": "python3"
  },
  "language_info": {
   "codemirror_mode": {
    "name": "ipython",
    "version": 3
   },
   "file_extension": ".py",
   "mimetype": "text/x-python",
   "name": "python",
   "nbconvert_exporter": "python",
   "pygments_lexer": "ipython3",
   "version": "3.8.5"
  }
 },
 "nbformat": 4,
 "nbformat_minor": 4
}
